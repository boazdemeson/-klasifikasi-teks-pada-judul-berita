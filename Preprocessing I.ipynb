{
 "cells": [
  {
   "cell_type": "markdown",
   "metadata": {},
   "source": [
    "## Data Preprocessing"
   ]
  },
  {
   "cell_type": "markdown",
   "metadata": {},
   "source": [
    "### Recode/Replace"
   ]
  },
  {
   "cell_type": "code",
   "execution_count": 3,
   "metadata": {},
   "outputs": [
    {
     "name": "stdout",
     "output_type": "stream",
     "text": [
      "   ArticleId                                               Text       Category\n",
      "0       1833  worldcom ex-boss launches defence lawyers defe...       business\n",
      "1        154  german business confidence slides german busin...       business\n",
      "2       1101  bbc poll indicates economic gloom citizens in ...       business\n",
      "3       1976  lifestyle  governs mobile choice  faster  bett...           tech\n",
      "4        917  enron bosses in $168m payout eighteen former e...       business\n",
      "5       1582  howard  truanted to play snooker  conservative...       politics\n",
      "6        651  wales silent on grand slam talk rhys williams ...          sport\n",
      "7       1797  french honour for director parker british film...  entertainment\n",
      "8       2034  car giant hit by mercedes slump a slump in pro...       business\n",
      "9       1866  fockers fuel festive film chart comedy meet th...  entertainment\n"
     ]
    }
   ],
   "source": [
    "import pandas as pd\n",
    "data_news = pd.read_csv('C:/Users/Dewi Napitupulu/Downloads/Data_Set/BBC News Train.csv')\n",
    "print(data_news.fillna(0).iloc[0:10, 0:5])"
   ]
  },
  {
   "cell_type": "markdown",
   "metadata": {},
   "source": [
    "###  Fill Forward\n"
   ]
  },
  {
   "cell_type": "code",
   "execution_count": 2,
   "metadata": {},
   "outputs": [
    {
     "name": "stdout",
     "output_type": "stream",
     "text": [
      "   ArticleId                                               Text       Category\n",
      "0       1833  worldcom ex-boss launches defence lawyers defe...       business\n",
      "1        154  german business confidence slides german busin...       business\n",
      "2       1101  bbc poll indicates economic gloom citizens in ...       business\n",
      "3       1976  lifestyle  governs mobile choice  faster  bett...           tech\n",
      "4        917  enron bosses in $168m payout eighteen former e...       business\n",
      "5       1582  howard  truanted to play snooker  conservative...       politics\n",
      "6        651  wales silent on grand slam talk rhys williams ...          sport\n",
      "7       1797  french honour for director parker british film...  entertainment\n",
      "8       2034  car giant hit by mercedes slump a slump in pro...       business\n",
      "9       1866  fockers fuel festive film chart comedy meet th...  entertainment\n"
     ]
    }
   ],
   "source": [
    "print(data_news.fillna(method='ffill').iloc[0:10, 0:5])"
   ]
  },
  {
   "cell_type": "markdown",
   "metadata": {},
   "source": [
    "### Fill Backward\n"
   ]
  },
  {
   "cell_type": "code",
   "execution_count": 5,
   "metadata": {},
   "outputs": [
    {
     "name": "stdout",
     "output_type": "stream",
     "text": [
      "      ArticleId                                               Text  \\\n",
      "1485        857  double eviction from big brother model caprice...   \n",
      "1486        325  dj double act revamp chart show dj duo jk and ...   \n",
      "1487       1590  weak dollar hits reuters revenues at media gro...   \n",
      "1488       1587  apple ipod family expands market apple has exp...   \n",
      "1489        538  santy worm makes unwelcome visit thousands of ...   \n",
      "\n",
      "           Category  \n",
      "1485  entertainment  \n",
      "1486  entertainment  \n",
      "1487       business  \n",
      "1488           tech  \n",
      "1489           tech  \n"
     ]
    }
   ],
   "source": [
    "print(data_news.fillna(method='bfill').iloc[:,0:5].tail())"
   ]
  },
  {
   "cell_type": "markdown",
   "metadata": {},
   "source": [
    "###  Interpolate\n"
   ]
  },
  {
   "cell_type": "code",
   "execution_count": 6,
   "metadata": {},
   "outputs": [
    {
     "name": "stdout",
     "output_type": "stream",
     "text": [
      "   ArticleId                                               Text       Category\n",
      "0       1833  worldcom ex-boss launches defence lawyers defe...       business\n",
      "1        154  german business confidence slides german busin...       business\n",
      "2       1101  bbc poll indicates economic gloom citizens in ...       business\n",
      "3       1976  lifestyle  governs mobile choice  faster  bett...           tech\n",
      "4        917  enron bosses in $168m payout eighteen former e...       business\n",
      "5       1582  howard  truanted to play snooker  conservative...       politics\n",
      "6        651  wales silent on grand slam talk rhys williams ...          sport\n",
      "7       1797  french honour for director parker british film...  entertainment\n",
      "8       2034  car giant hit by mercedes slump a slump in pro...       business\n",
      "9       1866  fockers fuel festive film chart comedy meet th...  entertainment\n"
     ]
    }
   ],
   "source": [
    "print(data_news.interpolate().iloc[0:10,0:5])"
   ]
  },
  {
   "cell_type": "markdown",
   "metadata": {},
   "source": [
    "### Drop Missing Values"
   ]
  },
  {
   "cell_type": "code",
   "execution_count": 7,
   "metadata": {},
   "outputs": [
    {
     "name": "stdout",
     "output_type": "stream",
     "text": [
      "(1490, 3)\n"
     ]
    }
   ],
   "source": [
    "print(data_news.shape)"
   ]
  },
  {
   "cell_type": "code",
   "execution_count": 8,
   "metadata": {},
   "outputs": [
    {
     "name": "stdout",
     "output_type": "stream",
     "text": [
      "(1490, 3)\n"
     ]
    }
   ],
   "source": [
    "data_news_dropna = data_news.dropna()\n",
    "print(data_news_dropna.shape)"
   ]
  },
  {
   "cell_type": "code",
   "execution_count": 9,
   "metadata": {},
   "outputs": [
    {
     "name": "stdout",
     "output_type": "stream",
     "text": [
      "      ArticleId                                               Text  \\\n",
      "0          1833  worldcom ex-boss launches defence lawyers defe...   \n",
      "1           154  german business confidence slides german busin...   \n",
      "2          1101  bbc poll indicates economic gloom citizens in ...   \n",
      "3          1976  lifestyle  governs mobile choice  faster  bett...   \n",
      "4           917  enron bosses in $168m payout eighteen former e...   \n",
      "...         ...                                                ...   \n",
      "1485        857  double eviction from big brother model caprice...   \n",
      "1486        325  dj double act revamp chart show dj duo jk and ...   \n",
      "1487       1590  weak dollar hits reuters revenues at media gro...   \n",
      "1488       1587  apple ipod family expands market apple has exp...   \n",
      "1489        538  santy worm makes unwelcome visit thousands of ...   \n",
      "\n",
      "           Category  \n",
      "0          business  \n",
      "1          business  \n",
      "2          business  \n",
      "3              tech  \n",
      "4          business  \n",
      "...             ...  \n",
      "1485  entertainment  \n",
      "1486  entertainment  \n",
      "1487       business  \n",
      "1488           tech  \n",
      "1489           tech  \n",
      "\n",
      "[1490 rows x 3 columns]\n"
     ]
    }
   ],
   "source": [
    "print(data_news_dropna)"
   ]
  },
  {
   "cell_type": "code",
   "execution_count": null,
   "metadata": {},
   "outputs": [],
   "source": []
  }
 ],
 "metadata": {
  "kernelspec": {
   "display_name": "Python 3",
   "language": "python",
   "name": "python3"
  },
  "language_info": {
   "codemirror_mode": {
    "name": "ipython",
    "version": 3
   },
   "file_extension": ".py",
   "mimetype": "text/x-python",
   "name": "python",
   "nbconvert_exporter": "python",
   "pygments_lexer": "ipython3",
   "version": "3.6.5"
  }
 },
 "nbformat": 4,
 "nbformat_minor": 2
}
